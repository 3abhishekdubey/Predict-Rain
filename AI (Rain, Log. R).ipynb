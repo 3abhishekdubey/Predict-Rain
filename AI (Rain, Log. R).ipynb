{
 "cells": [
  {
   "cell_type": "markdown",
   "id": "0af81b71-9d6c-4b47-a2d5-5944881dbd30",
   "metadata": {},
   "source": [
    "# Problem: Predict rain on a given date."
   ]
  },
  {
   "cell_type": "code",
   "execution_count": 3,
   "id": "5309b706-3af9-41e7-81c4-6cc532a20cd7",
   "metadata": {},
   "outputs": [],
   "source": [
    "import numpy as np\n",
    "import pandas as pd\n",
    "import matplotlib.pyplot as plt\n",
    "import seaborn as sns"
   ]
  },
  {
   "cell_type": "code",
   "execution_count": 4,
   "id": "821f4f73-665d-4412-adce-6b1c705ef23a",
   "metadata": {},
   "outputs": [],
   "source": [
    "data= pd.read_csv('seattleweather1948-2017_1716911480863.csv')"
   ]
  },
  {
   "cell_type": "code",
   "execution_count": 5,
   "id": "12f4bf5a-0b4e-4622-9826-49883e1b0f30",
   "metadata": {
    "scrolled": true
   },
   "outputs": [
    {
     "data": {
      "text/html": [
       "<div>\n",
       "<style scoped>\n",
       "    .dataframe tbody tr th:only-of-type {\n",
       "        vertical-align: middle;\n",
       "    }\n",
       "\n",
       "    .dataframe tbody tr th {\n",
       "        vertical-align: top;\n",
       "    }\n",
       "\n",
       "    .dataframe thead th {\n",
       "        text-align: right;\n",
       "    }\n",
       "</style>\n",
       "<table border=\"1\" class=\"dataframe\">\n",
       "  <thead>\n",
       "    <tr style=\"text-align: right;\">\n",
       "      <th></th>\n",
       "      <th>DATE</th>\n",
       "      <th>PRCP</th>\n",
       "      <th>TMAX</th>\n",
       "      <th>TMIN</th>\n",
       "      <th>RAIN</th>\n",
       "    </tr>\n",
       "  </thead>\n",
       "  <tbody>\n",
       "    <tr>\n",
       "      <th>0</th>\n",
       "      <td>1948-01-01</td>\n",
       "      <td>0.47</td>\n",
       "      <td>51</td>\n",
       "      <td>42</td>\n",
       "      <td>True</td>\n",
       "    </tr>\n",
       "    <tr>\n",
       "      <th>1</th>\n",
       "      <td>1948-01-02</td>\n",
       "      <td>0.59</td>\n",
       "      <td>45</td>\n",
       "      <td>36</td>\n",
       "      <td>True</td>\n",
       "    </tr>\n",
       "    <tr>\n",
       "      <th>2</th>\n",
       "      <td>1948-01-03</td>\n",
       "      <td>0.42</td>\n",
       "      <td>45</td>\n",
       "      <td>35</td>\n",
       "      <td>True</td>\n",
       "    </tr>\n",
       "    <tr>\n",
       "      <th>3</th>\n",
       "      <td>1948-01-04</td>\n",
       "      <td>0.31</td>\n",
       "      <td>45</td>\n",
       "      <td>34</td>\n",
       "      <td>True</td>\n",
       "    </tr>\n",
       "    <tr>\n",
       "      <th>4</th>\n",
       "      <td>1948-01-05</td>\n",
       "      <td>0.17</td>\n",
       "      <td>45</td>\n",
       "      <td>32</td>\n",
       "      <td>True</td>\n",
       "    </tr>\n",
       "  </tbody>\n",
       "</table>\n",
       "</div>"
      ],
      "text/plain": [
       "         DATE  PRCP  TMAX  TMIN  RAIN\n",
       "0  1948-01-01  0.47    51    42  True\n",
       "1  1948-01-02  0.59    45    36  True\n",
       "2  1948-01-03  0.42    45    35  True\n",
       "3  1948-01-04  0.31    45    34  True\n",
       "4  1948-01-05  0.17    45    32  True"
      ]
     },
     "execution_count": 5,
     "metadata": {},
     "output_type": "execute_result"
    }
   ],
   "source": [
    "data.head()"
   ]
  },
  {
   "cell_type": "code",
   "execution_count": 6,
   "id": "2a5040c6-bcad-43d1-96a0-594172771f8a",
   "metadata": {},
   "outputs": [
    {
     "name": "stdout",
     "output_type": "stream",
     "text": [
      "<class 'pandas.core.frame.DataFrame'>\n",
      "RangeIndex: 25551 entries, 0 to 25550\n",
      "Data columns (total 5 columns):\n",
      " #   Column  Non-Null Count  Dtype  \n",
      "---  ------  --------------  -----  \n",
      " 0   DATE    25551 non-null  object \n",
      " 1   PRCP    25548 non-null  float64\n",
      " 2   TMAX    25551 non-null  int64  \n",
      " 3   TMIN    25551 non-null  int64  \n",
      " 4   RAIN    25548 non-null  object \n",
      "dtypes: float64(1), int64(2), object(2)\n",
      "memory usage: 998.2+ KB\n"
     ]
    }
   ],
   "source": [
    "data.info()"
   ]
  },
  {
   "cell_type": "code",
   "execution_count": 7,
   "id": "f8d20dd6-91fb-45d2-8c52-1727c63f38b6",
   "metadata": {},
   "outputs": [
    {
     "data": {
      "text/plain": [
       "(25551, 5)"
      ]
     },
     "execution_count": 7,
     "metadata": {},
     "output_type": "execute_result"
    }
   ],
   "source": [
    "data.shape"
   ]
  },
  {
   "cell_type": "code",
   "execution_count": 8,
   "id": "afa6553f-2cee-4c47-a7f9-d4cb6c336c1a",
   "metadata": {},
   "outputs": [
    {
     "data": {
      "text/plain": [
       "DATE    0\n",
       "PRCP    3\n",
       "TMAX    0\n",
       "TMIN    0\n",
       "RAIN    3\n",
       "dtype: int64"
      ]
     },
     "execution_count": 8,
     "metadata": {},
     "output_type": "execute_result"
    }
   ],
   "source": [
    "data.isnull().sum()"
   ]
  },
  {
   "cell_type": "code",
   "execution_count": 9,
   "id": "41ece5cd-fcc9-4f93-9675-c7a826f116c8",
   "metadata": {},
   "outputs": [
    {
     "data": {
      "text/plain": [
       "RAIN\n",
       "False    14648\n",
       "True     10900\n",
       "Name: count, dtype: int64"
      ]
     },
     "execution_count": 9,
     "metadata": {},
     "output_type": "execute_result"
    }
   ],
   "source": [
    "data.RAIN.value_counts()"
   ]
  },
  {
   "cell_type": "code",
   "execution_count": 10,
   "id": "f3d4eb3e-f6c8-4dac-9c68-2aa7f1283c7a",
   "metadata": {},
   "outputs": [
    {
     "data": {
      "text/html": [
       "<div>\n",
       "<style scoped>\n",
       "    .dataframe tbody tr th:only-of-type {\n",
       "        vertical-align: middle;\n",
       "    }\n",
       "\n",
       "    .dataframe tbody tr th {\n",
       "        vertical-align: top;\n",
       "    }\n",
       "\n",
       "    .dataframe thead th {\n",
       "        text-align: right;\n",
       "    }\n",
       "</style>\n",
       "<table border=\"1\" class=\"dataframe\">\n",
       "  <thead>\n",
       "    <tr style=\"text-align: right;\">\n",
       "      <th></th>\n",
       "      <th>DATE</th>\n",
       "      <th>PRCP</th>\n",
       "      <th>TMAX</th>\n",
       "      <th>TMIN</th>\n",
       "      <th>RAIN</th>\n",
       "    </tr>\n",
       "  </thead>\n",
       "  <tbody>\n",
       "    <tr>\n",
       "      <th>18415</th>\n",
       "      <td>1998-06-02</td>\n",
       "      <td>NaN</td>\n",
       "      <td>72</td>\n",
       "      <td>52</td>\n",
       "      <td>NaN</td>\n",
       "    </tr>\n",
       "    <tr>\n",
       "      <th>18416</th>\n",
       "      <td>1998-06-03</td>\n",
       "      <td>NaN</td>\n",
       "      <td>66</td>\n",
       "      <td>51</td>\n",
       "      <td>NaN</td>\n",
       "    </tr>\n",
       "    <tr>\n",
       "      <th>21067</th>\n",
       "      <td>2005-09-05</td>\n",
       "      <td>NaN</td>\n",
       "      <td>70</td>\n",
       "      <td>52</td>\n",
       "      <td>NaN</td>\n",
       "    </tr>\n",
       "  </tbody>\n",
       "</table>\n",
       "</div>"
      ],
      "text/plain": [
       "             DATE  PRCP  TMAX  TMIN RAIN\n",
       "18415  1998-06-02   NaN    72    52  NaN\n",
       "18416  1998-06-03   NaN    66    51  NaN\n",
       "21067  2005-09-05   NaN    70    52  NaN"
      ]
     },
     "execution_count": 10,
     "metadata": {},
     "output_type": "execute_result"
    }
   ],
   "source": [
    "data[data['PRCP'].isna()]"
   ]
  },
  {
   "cell_type": "code",
   "execution_count": 11,
   "id": "49df52f0-c4e8-417b-bb0e-d02644b311ba",
   "metadata": {},
   "outputs": [
    {
     "data": {
      "text/html": [
       "<div>\n",
       "<style scoped>\n",
       "    .dataframe tbody tr th:only-of-type {\n",
       "        vertical-align: middle;\n",
       "    }\n",
       "\n",
       "    .dataframe tbody tr th {\n",
       "        vertical-align: top;\n",
       "    }\n",
       "\n",
       "    .dataframe thead th {\n",
       "        text-align: right;\n",
       "    }\n",
       "</style>\n",
       "<table border=\"1\" class=\"dataframe\">\n",
       "  <thead>\n",
       "    <tr style=\"text-align: right;\">\n",
       "      <th></th>\n",
       "      <th>DATE</th>\n",
       "      <th>PRCP</th>\n",
       "      <th>TMAX</th>\n",
       "      <th>TMIN</th>\n",
       "      <th>RAIN</th>\n",
       "    </tr>\n",
       "  </thead>\n",
       "  <tbody>\n",
       "    <tr>\n",
       "      <th>18415</th>\n",
       "      <td>1998-06-02</td>\n",
       "      <td>NaN</td>\n",
       "      <td>72</td>\n",
       "      <td>52</td>\n",
       "      <td>NaN</td>\n",
       "    </tr>\n",
       "    <tr>\n",
       "      <th>18416</th>\n",
       "      <td>1998-06-03</td>\n",
       "      <td>NaN</td>\n",
       "      <td>66</td>\n",
       "      <td>51</td>\n",
       "      <td>NaN</td>\n",
       "    </tr>\n",
       "    <tr>\n",
       "      <th>21067</th>\n",
       "      <td>2005-09-05</td>\n",
       "      <td>NaN</td>\n",
       "      <td>70</td>\n",
       "      <td>52</td>\n",
       "      <td>NaN</td>\n",
       "    </tr>\n",
       "  </tbody>\n",
       "</table>\n",
       "</div>"
      ],
      "text/plain": [
       "             DATE  PRCP  TMAX  TMIN RAIN\n",
       "18415  1998-06-02   NaN    72    52  NaN\n",
       "18416  1998-06-03   NaN    66    51  NaN\n",
       "21067  2005-09-05   NaN    70    52  NaN"
      ]
     },
     "execution_count": 11,
     "metadata": {},
     "output_type": "execute_result"
    }
   ],
   "source": [
    "data[data['RAIN'].isna()]"
   ]
  },
  {
   "cell_type": "code",
   "execution_count": 12,
   "id": "e3d6e57a-b46c-416f-b4d5-f89cad181384",
   "metadata": {},
   "outputs": [
    {
     "data": {
      "text/plain": [
       "DATE    0\n",
       "PRCP    3\n",
       "TMAX    0\n",
       "TMIN    0\n",
       "RAIN    3\n",
       "dtype: int64"
      ]
     },
     "execution_count": 12,
     "metadata": {},
     "output_type": "execute_result"
    }
   ],
   "source": [
    "data.isna().sum()"
   ]
  },
  {
   "cell_type": "code",
   "execution_count": 13,
   "id": "43a56d66-96bc-4c67-9ca3-4d6da3fee8a3",
   "metadata": {},
   "outputs": [
    {
     "data": {
      "text/plain": [
       "(25551, 5)"
      ]
     },
     "execution_count": 13,
     "metadata": {},
     "output_type": "execute_result"
    }
   ],
   "source": [
    "data.shape"
   ]
  },
  {
   "cell_type": "code",
   "execution_count": 14,
   "id": "e0c21cd2-d362-4b9b-be15-fb466487a989",
   "metadata": {},
   "outputs": [],
   "source": [
    "data['PRCP'].fillna(data['PRCP'].mean(), inplace= True)"
   ]
  },
  {
   "cell_type": "code",
   "execution_count": 15,
   "id": "f7af0631-484e-4da4-b3b1-8569e370f99c",
   "metadata": {},
   "outputs": [],
   "source": [
    "data['RAIN'].fillna(data['RAIN'].mode()[0], inplace= True)"
   ]
  },
  {
   "cell_type": "code",
   "execution_count": 16,
   "id": "0070d5f2-a2d4-4038-929c-1cdd9862215b",
   "metadata": {},
   "outputs": [
    {
     "data": {
      "text/plain": [
       "0"
      ]
     },
     "execution_count": 16,
     "metadata": {},
     "output_type": "execute_result"
    }
   ],
   "source": [
    "data['PRCP'].isna().sum()"
   ]
  },
  {
   "cell_type": "code",
   "execution_count": 17,
   "id": "505c4d55-609b-41b8-8621-c1b32e9dc06f",
   "metadata": {},
   "outputs": [
    {
     "data": {
      "text/plain": [
       "0"
      ]
     },
     "execution_count": 17,
     "metadata": {},
     "output_type": "execute_result"
    }
   ],
   "source": [
    "data['RAIN'].isna().sum()"
   ]
  },
  {
   "cell_type": "code",
   "execution_count": 18,
   "id": "8299901e-2867-40fc-bbd5-332f44fb5b8d",
   "metadata": {},
   "outputs": [
    {
     "name": "stdout",
     "output_type": "stream",
     "text": [
      "<class 'pandas.core.frame.DataFrame'>\n",
      "RangeIndex: 25551 entries, 0 to 25550\n",
      "Data columns (total 5 columns):\n",
      " #   Column  Non-Null Count  Dtype  \n",
      "---  ------  --------------  -----  \n",
      " 0   DATE    25551 non-null  object \n",
      " 1   PRCP    25551 non-null  float64\n",
      " 2   TMAX    25551 non-null  int64  \n",
      " 3   TMIN    25551 non-null  int64  \n",
      " 4   RAIN    25551 non-null  bool   \n",
      "dtypes: bool(1), float64(1), int64(2), object(1)\n",
      "memory usage: 823.5+ KB\n"
     ]
    }
   ],
   "source": [
    "data.info()"
   ]
  },
  {
   "cell_type": "code",
   "execution_count": 19,
   "id": "b397ef48-f899-4795-bee4-ebabbce95db9",
   "metadata": {},
   "outputs": [],
   "source": [
    "from sklearn.preprocessing import LabelEncoder\n",
    "le= LabelEncoder()"
   ]
  },
  {
   "cell_type": "code",
   "execution_count": 20,
   "id": "88e6ac4f-9b23-4961-9eb4-cbaa118b1f0d",
   "metadata": {},
   "outputs": [],
   "source": [
    "data['RAIN']= le.fit_transform(data['RAIN'])"
   ]
  },
  {
   "cell_type": "code",
   "execution_count": 21,
   "id": "9f2fef79-48aa-4ca1-986e-fcb0a5413718",
   "metadata": {},
   "outputs": [
    {
     "data": {
      "text/plain": [
       "dtype('int64')"
      ]
     },
     "execution_count": 21,
     "metadata": {},
     "output_type": "execute_result"
    }
   ],
   "source": [
    "data['RAIN'].dtypes"
   ]
  },
  {
   "cell_type": "code",
   "execution_count": 22,
   "id": "f7b74f0c-efdd-4604-8be1-65cb4a10fa72",
   "metadata": {},
   "outputs": [
    {
     "data": {
      "image/png": "[encoded data removed]",
      "text/plain": [
       "<Figure size 640x480 with 1 Axes>"
      ]
     },
     "metadata": {},
     "output_type": "display_data"
    }
   ],
   "source": [
    "sns.countplot(x= 'RAIN', data= data)\n",
    "plt.show()"
   ]
  },
  {
   "cell_type": "code",
   "execution_count": 23,
   "id": "870b7013-75d0-433c-8780-8e6cc25e6e2c",
   "metadata": {},
   "outputs": [
    {
     "data": {
      "image/png": "[encoded data removed]",
      "text/plain": [
       "<Figure size 640x480 with 1 Axes>"
      ]
     },
     "metadata": {},
     "output_type": "display_data"
    }
   ],
   "source": [
    "import warnings\n",
    "warnings.filterwarnings('ignore')\n",
    "\n",
    "sns.histplot(data['TMAX'], kde= True)\n",
    "plt.show()"
   ]
  },
  {
   "cell_type": "code",
   "execution_count": 24,
   "id": "b1987b3d-04e1-4b06-98e6-8ba0ab1f88ce",
   "metadata": {},
   "outputs": [
    {
     "data": {
      "image/png": "[encoded data removed]",
      "text/plain": [
       "<Figure size 640x480 with 1 Axes>"
      ]
     },
     "metadata": {},
     "output_type": "display_data"
    }
   ],
   "source": [
    "sns.distplot(data['TMIN'])\n",
    "plt.show()"
   ]
  },
  {
   "cell_type": "code",
   "execution_count": 25,
   "id": "5deed583-f3d7-4e02-b576-eda9b4322a33",
   "metadata": {},
   "outputs": [
    {
     "data": {
      "image/png": "[encoded data removed]",
      "text/plain": [
       "<Figure size 640x480 with 1 Axes>"
      ]
     },
     "metadata": {},
     "output_type": "display_data"
    }
   ],
   "source": [
    "sns.distplot(data['PRCP'])\n",
    "plt.show()"
   ]
  },
  {
   "cell_type": "code",
   "execution_count": 26,
   "id": "5f9762bd-f8a4-4620-9787-de1e91a5dbe9",
   "metadata": {},
   "outputs": [
    {
     "data": {
      "text/html": [
       "<div>\n",
       "<style scoped>\n",
       "    .dataframe tbody tr th:only-of-type {\n",
       "        vertical-align: middle;\n",
       "    }\n",
       "\n",
       "    .dataframe tbody tr th {\n",
       "        vertical-align: top;\n",
       "    }\n",
       "\n",
       "    .dataframe thead th {\n",
       "        text-align: right;\n",
       "    }\n",
       "</style>\n",
       "<table border=\"1\" class=\"dataframe\">\n",
       "  <thead>\n",
       "    <tr style=\"text-align: right;\">\n",
       "      <th></th>\n",
       "      <th>PRCP</th>\n",
       "      <th>TMAX</th>\n",
       "      <th>TMIN</th>\n",
       "      <th>RAIN</th>\n",
       "    </tr>\n",
       "  </thead>\n",
       "  <tbody>\n",
       "    <tr>\n",
       "      <th>count</th>\n",
       "      <td>25551.000000</td>\n",
       "      <td>25551.000000</td>\n",
       "      <td>25551.000000</td>\n",
       "      <td>25551.000000</td>\n",
       "    </tr>\n",
       "    <tr>\n",
       "      <th>mean</th>\n",
       "      <td>0.106222</td>\n",
       "      <td>59.544206</td>\n",
       "      <td>44.514226</td>\n",
       "      <td>0.426598</td>\n",
       "    </tr>\n",
       "    <tr>\n",
       "      <th>std</th>\n",
       "      <td>0.239017</td>\n",
       "      <td>12.772984</td>\n",
       "      <td>8.892836</td>\n",
       "      <td>0.494592</td>\n",
       "    </tr>\n",
       "    <tr>\n",
       "      <th>min</th>\n",
       "      <td>0.000000</td>\n",
       "      <td>4.000000</td>\n",
       "      <td>0.000000</td>\n",
       "      <td>0.000000</td>\n",
       "    </tr>\n",
       "    <tr>\n",
       "      <th>25%</th>\n",
       "      <td>0.000000</td>\n",
       "      <td>50.000000</td>\n",
       "      <td>38.000000</td>\n",
       "      <td>0.000000</td>\n",
       "    </tr>\n",
       "    <tr>\n",
       "      <th>50%</th>\n",
       "      <td>0.000000</td>\n",
       "      <td>58.000000</td>\n",
       "      <td>45.000000</td>\n",
       "      <td>0.000000</td>\n",
       "    </tr>\n",
       "    <tr>\n",
       "      <th>75%</th>\n",
       "      <td>0.100000</td>\n",
       "      <td>69.000000</td>\n",
       "      <td>52.000000</td>\n",
       "      <td>1.000000</td>\n",
       "    </tr>\n",
       "    <tr>\n",
       "      <th>max</th>\n",
       "      <td>5.020000</td>\n",
       "      <td>103.000000</td>\n",
       "      <td>71.000000</td>\n",
       "      <td>1.000000</td>\n",
       "    </tr>\n",
       "  </tbody>\n",
       "</table>\n",
       "</div>"
      ],
      "text/plain": [
       "               PRCP          TMAX          TMIN          RAIN\n",
       "count  25551.000000  25551.000000  25551.000000  25551.000000\n",
       "mean       0.106222     59.544206     44.514226      0.426598\n",
       "std        0.239017     12.772984      8.892836      0.494592\n",
       "min        0.000000      4.000000      0.000000      0.000000\n",
       "25%        0.000000     50.000000     38.000000      0.000000\n",
       "50%        0.000000     58.000000     45.000000      0.000000\n",
       "75%        0.100000     69.000000     52.000000      1.000000\n",
       "max        5.020000    103.000000     71.000000      1.000000"
      ]
     },
     "execution_count": 26,
     "metadata": {},
     "output_type": "execute_result"
    }
   ],
   "source": [
    "data.describe()"
   ]
  },
  {
   "cell_type": "code",
   "execution_count": 27,
   "id": "70a663a0-385b-4fc3-965d-c240dfe59624",
   "metadata": {},
   "outputs": [
    {
     "data": {
      "image/png": "[encoded data removed]",
      "text/plain": [
       "<Figure size 640x480 with 1 Axes>"
      ]
     },
     "metadata": {},
     "output_type": "display_data"
    }
   ],
   "source": [
    "sns.boxplot(x= data['TMAX'])\n",
    "plt.show()"
   ]
  },
  {
   "cell_type": "code",
   "execution_count": 28,
   "id": "cc96e8f9-cdae-46ad-b907-60aaf615c570",
   "metadata": {},
   "outputs": [
    {
     "data": {
      "image/png": "[encoded data removed]",
      "text/plain": [
       "<Figure size 640x480 with 1 Axes>"
      ]
     },
     "metadata": {},
     "output_type": "display_data"
    }
   ],
   "source": [
    "data['TMIN'].plot(kind= 'box', title= 'Min. Temp.')\n",
    "plt.show()"
   ]
  },
  {
   "cell_type": "code",
   "execution_count": 29,
   "id": "66d307cd-ef01-4367-960a-a11ab85d1e43",
   "metadata": {},
   "outputs": [
    {
     "data": {
      "image/png": "[encoded data removed]",
      "text/plain": [
       "<Figure size 640x480 with 1 Axes>"
      ]
     },
     "metadata": {},
     "output_type": "display_data"
    }
   ],
   "source": [
    "data.boxplot(column= 'PRCP')\n",
    "plt.show()"
   ]
  },
  {
   "cell_type": "code",
   "execution_count": 30,
   "id": "9ec80e80-4b6a-4609-b811-d6ae932af372",
   "metadata": {},
   "outputs": [],
   "source": [
    "def outlier_removal(data, col):\n",
    "    Q1= data[col].quantile(0.25)\n",
    "    Q3= data[col].quantile(0.75)\n",
    "    IQR= Q3-Q1\n",
    "    data=data.loc[~((data[col] < (Q1-3*IQR))|(data[col]> (Q3+3*IQR))),]\n",
    "    return data"
   ]
  },
  {
   "cell_type": "code",
   "execution_count": 31,
   "id": "0330df1d-38ed-4584-89f3-b432b288123e",
   "metadata": {},
   "outputs": [],
   "source": [
    "data= outlier_removal(data,'PRCP')\n",
    "data= outlier_removal(data,'TMAX')\n",
    "data= outlier_removal(data,'TMIN')"
   ]
  },
  {
   "cell_type": "code",
   "execution_count": 32,
   "id": "2b1b2b18-8b96-4bd1-8a9b-d7adbf689649",
   "metadata": {},
   "outputs": [
    {
     "data": {
      "image/png": "[encoded data removed]",
      "text/plain": [
       "<Figure size 640x480 with 1 Axes>"
      ]
     },
     "metadata": {},
     "output_type": "display_data"
    }
   ],
   "source": [
    "sns.boxplot(x= data['TMAX'])\n",
    "plt.show()"
   ]
  },
  {
   "cell_type": "code",
   "execution_count": 33,
   "id": "b204fa94-3f89-407f-a594-efecce896515",
   "metadata": {},
   "outputs": [
    {
     "data": {
      "image/png": "[encoded data removed]",
      "text/plain": [
       "<Figure size 640x480 with 1 Axes>"
      ]
     },
     "metadata": {},
     "output_type": "display_data"
    }
   ],
   "source": [
    "sns.boxplot(x= data['PRCP'])\n",
    "plt.show()"
   ]
  },
  {
   "cell_type": "code",
   "execution_count": 34,
   "id": "3d2717ec-79a6-45f4-a9ba-280d4a36a797",
   "metadata": {},
   "outputs": [
    {
     "data": {
      "image/png": "[encoded data removed]",
      "text/plain": [
       "<Figure size 640x480 with 1 Axes>"
      ]
     },
     "metadata": {},
     "output_type": "display_data"
    }
   ],
   "source": [
    "sns.boxplot(x= data['TMIN'])\n",
    "plt.show()"
   ]
  },
  {
   "cell_type": "code",
   "execution_count": 35,
   "id": "d92b1fdb-a853-4822-a6f4-a33c72175eed",
   "metadata": {},
   "outputs": [
    {
     "data": {
      "text/plain": [
       "(23451, 5)"
      ]
     },
     "execution_count": 35,
     "metadata": {},
     "output_type": "execute_result"
    }
   ],
   "source": [
    "data.shape"
   ]
  },
  {
   "cell_type": "code",
   "execution_count": 36,
   "id": "959ac955-4c33-4a3b-b9a0-1ed8a1826ac1",
   "metadata": {},
   "outputs": [],
   "source": [
    "data.drop(data[(data['TMAX']>101) | (data['TMAX']<19)].index, inplace= True)"
   ]
  },
  {
   "cell_type": "code",
   "execution_count": 37,
   "id": "c30eec10-bc16-4c38-a3d7-08e46b3f8e30",
   "metadata": {},
   "outputs": [],
   "source": [
    "data.drop(data[(data['TMIN']<17)].index, inplace= True)"
   ]
  },
  {
   "cell_type": "code",
   "execution_count": 38,
   "id": "8e94d697-5c9c-437d-a750-1512def29608",
   "metadata": {},
   "outputs": [
    {
     "data": {
      "image/png": "[encoded data removed]",
      "text/plain": [
       "<Figure size 640x480 with 1 Axes>"
      ]
     },
     "metadata": {},
     "output_type": "display_data"
    }
   ],
   "source": [
    "sns.boxplot(x= data['TMAX'])\n",
    "plt.show()"
   ]
  },
  {
   "cell_type": "code",
   "execution_count": 39,
   "id": "f7df93e1-8b89-4ae6-94ca-44fc24603c20",
   "metadata": {
    "scrolled": true
   },
   "outputs": [
    {
     "data": {
      "image/png": "[encoded data removed]",
      "text/plain": [
       "<Figure size 640x480 with 1 Axes>"
      ]
     },
     "metadata": {},
     "output_type": "display_data"
    }
   ],
   "source": [
    "sns.boxplot(x= data['TMIN'])\n",
    "plt.show()"
   ]
  },
  {
   "cell_type": "code",
   "execution_count": 40,
   "id": "7b91f22a-6c75-494a-951c-e3ba995ffbf1",
   "metadata": {},
   "outputs": [
    {
     "data": {
      "text/plain": [
       "(23360, 5)"
      ]
     },
     "execution_count": 40,
     "metadata": {},
     "output_type": "execute_result"
    }
   ],
   "source": [
    "data.shape"
   ]
  },
  {
   "cell_type": "code",
   "execution_count": 41,
   "id": "31e6e155-c353-4fba-b5fe-e8018fb35b91",
   "metadata": {},
   "outputs": [],
   "source": [
    "x= data[['TMIN', 'TMAX','PRCP']]\n",
    "y= data['RAIN']"
   ]
  },
  {
   "cell_type": "code",
   "execution_count": 42,
   "id": "789c6894-ec96-49d4-9403-031bb5b297e2",
   "metadata": {},
   "outputs": [],
   "source": [
    "from sklearn.model_selection import train_test_split\n",
    "x_train, x_test, y_train, y_test= train_test_split(x,y, train_size= 0.70, random_state= 42)"
   ]
  },
  {
   "cell_type": "code",
   "execution_count": 43,
   "id": "3b2e96b8-00f1-490c-842d-327fa1b4eef0",
   "metadata": {},
   "outputs": [],
   "source": [
    "from sklearn.linear_model import LogisticRegression\n",
    "lr= LogisticRegression()"
   ]
  },
  {
   "cell_type": "code",
   "execution_count": 44,
   "id": "0a70a276-d1da-4032-8954-2bd877481545",
   "metadata": {},
   "outputs": [
    {
     "data": {
      "text/html": [
       "<style>#sk-container-id-1 {color: black;background-color: white;}#sk-container-id-1 pre{padding: 0;}#sk-container-id-1 div.sk-toggleable {background-color: white;}#sk-container-id-1 label.sk-toggleable__label {cursor: pointer;display: block;width: 100%;margin-bottom: 0;padding: 0.3em;box-sizing: border-box;text-align: center;}#sk-container-id-1 label.sk-toggleable__label-arrow:before {content: \"▸\";float: left;margin-right: 0.25em;color: #696969;}#sk-container-id-1 label.sk-toggleable__label-arrow:hover:before {color: black;}#sk-container-id-1 div.sk-estimator:hover label.sk-toggleable__label-arrow:before {color: black;}#sk-container-id-1 div.sk-toggleable__content {max-height: 0;max-width: 0;overflow: hidden;text-align: left;background-color: #f0f8ff;}#sk-container-id-1 div.sk-toggleable__content pre {margin: 0.2em;color: black;border-radius: 0.25em;background-color: #f0f8ff;}#sk-container-id-1 input.sk-toggleable__control:checked~div.sk-toggleable__content {max-height: 200px;max-width: 100%;overflow: auto;}#sk-container-id-1 input.sk-toggleable__control:checked~label.sk-toggleable__label-arrow:before {content: \"▾\";}#sk-container-id-1 div.sk-estimator input.sk-toggleable__control:checked~label.sk-toggleable__label {background-color: #d4ebff;}#sk-container-id-1 div.sk-label input.sk-toggleable__control:checked~label.sk-toggleable__label {background-color: #d4ebff;}#sk-container-id-1 input.sk-hidden--visually {border: 0;clip: rect(1px 1px 1px 1px);clip: rect(1px, 1px, 1px, 1px);height: 1px;margin: -1px;overflow: hidden;padding: 0;position: absolute;width: 1px;}#sk-container-id-1 div.sk-estimator {font-family: monospace;background-color: #f0f8ff;border: 1px dotted black;border-radius: 0.25em;box-sizing: border-box;margin-bottom: 0.5em;}#sk-container-id-1 div.sk-estimator:hover {background-color: #d4ebff;}#sk-container-id-1 div.sk-parallel-item::after {content: \"\";width: 100%;border-bottom: 1px solid gray;flex-grow: 1;}#sk-container-id-1 div.sk-label:hover label.sk-toggleable__label {background-color: #d4ebff;}#sk-container-id-1 div.sk-serial::before {content: \"\";position: absolute;border-left: 1px solid gray;box-sizing: border-box;top: 0;bottom: 0;left: 50%;z-index: 0;}#sk-container-id-1 div.sk-serial {display: flex;flex-direction: column;align-items: center;background-color: white;padding-right: 0.2em;padding-left: 0.2em;position: relative;}#sk-container-id-1 div.sk-item {position: relative;z-index: 1;}#sk-container-id-1 div.sk-parallel {display: flex;align-items: stretch;justify-content: center;background-color: white;position: relative;}#sk-container-id-1 div.sk-item::before, #sk-container-id-1 div.sk-parallel-item::before {content: \"\";position: absolute;border-left: 1px solid gray;box-sizing: border-box;top: 0;bottom: 0;left: 50%;z-index: -1;}#sk-container-id-1 div.sk-parallel-item {display: flex;flex-direction: column;z-index: 1;position: relative;background-color: white;}#sk-container-id-1 div.sk-parallel-item:first-child::after {align-self: flex-end;width: 50%;}#sk-container-id-1 div.sk-parallel-item:last-child::after {align-self: flex-start;width: 50%;}#sk-container-id-1 div.sk-parallel-item:only-child::after {width: 0;}#sk-container-id-1 div.sk-dashed-wrapped {border: 1px dashed gray;margin: 0 0.4em 0.5em 0.4em;box-sizing: border-box;padding-bottom: 0.4em;background-color: white;}#sk-container-id-1 div.sk-label label {font-family: monospace;font-weight: bold;display: inline-block;line-height: 1.2em;}#sk-container-id-1 div.sk-label-container {text-align: center;}#sk-container-id-1 div.sk-container {/* jupyter's `normalize.less` sets `[hidden] { display: none; }` but bootstrap.min.css set `[hidden] { display: none !important; }` so we also need the `!important` here to be able to override the default hidden behavior on the sphinx rendered scikit-learn.org. See: https://github.com/scikit-learn/scikit-learn/issues/21755 */display: inline-block !important;position: relative;}#sk-container-id-1 div.sk-text-repr-fallback {display: none;}</style><div id=\"sk-container-id-1\" class=\"sk-top-container\"><div class=\"sk-text-repr-fallback\"><pre>LogisticRegression()</pre><b>In a Jupyter environment, please rerun this cell to show the HTML representation or trust the notebook. <br />On GitHub, the HTML representation is unable to render, please try loading this page with nbviewer.org.</b></div><div class=\"sk-container\" hidden><div class=\"sk-item\"><div class=\"sk-estimator sk-toggleable\"><input class=\"sk-toggleable__control sk-hidden--visually\" id=\"sk-estimator-id-1\" type=\"checkbox\" checked><label for=\"sk-estimator-id-1\" class=\"sk-toggleable__label sk-toggleable__label-arrow\">LogisticRegression</label><div class=\"sk-toggleable__content\"><pre>LogisticRegression()</pre></div></div></div></div></div>"
      ],
      "text/plain": [
       "LogisticRegression()"
      ]
     },
     "execution_count": 44,
     "metadata": {},
     "output_type": "execute_result"
    }
   ],
   "source": [
    "lr.fit(x_train, y_train)"
   ]
  },
  {
   "cell_type": "code",
   "execution_count": 45,
   "id": "aebb5ec9-7def-4820-a1f8-f27c3553e2cf",
   "metadata": {},
   "outputs": [],
   "source": [
    "y_pred= lr.predict(x_test)"
   ]
  },
  {
   "cell_type": "code",
   "execution_count": 46,
   "id": "78a6edba-72b9-41ef-a829-7d261741b9ee",
   "metadata": {},
   "outputs": [
    {
     "data": {
      "text/plain": [
       "0.9179626194892281"
      ]
     },
     "execution_count": 46,
     "metadata": {},
     "output_type": "execute_result"
    }
   ],
   "source": [
    "from sklearn.metrics import accuracy_score\n",
    "r2= accuracy_score(y_test, y_pred)\n",
    "r2"
   ]
  },
  {
   "cell_type": "code",
   "execution_count": 47,
   "id": "59187603-9a64-4289-a6e1-62fc80fb9425",
   "metadata": {},
   "outputs": [
    {
     "data": {
      "text/plain": [
       "array([0, 1], dtype=int64)"
      ]
     },
     "execution_count": 47,
     "metadata": {},
     "output_type": "execute_result"
    }
   ],
   "source": [
    "lr.classes_"
   ]
  },
  {
   "cell_type": "code",
   "execution_count": 48,
   "id": "7c34da05-ebc0-4172-bf4c-49058c9e9129",
   "metadata": {},
   "outputs": [
    {
     "data": {
      "text/plain": [
       "array([0, 0, 1, ..., 0, 1, 0], dtype=int64)"
      ]
     },
     "execution_count": 48,
     "metadata": {},
     "output_type": "execute_result"
    }
   ],
   "source": [
    "y_pred"
   ]
  },
  {
   "cell_type": "code",
   "execution_count": 49,
   "id": "79d81b16-6386-4e1d-8b9c-c1ae3caf4377",
   "metadata": {},
   "outputs": [
    {
     "data": {
      "text/plain": [
       "array([[0.89825784, 0.10174216],\n",
       "       [0.95117608, 0.04882392],\n",
       "       [0.00400073, 0.99599927],\n",
       "       ...,\n",
       "       [0.97750425, 0.02249575],\n",
       "       [0.02459225, 0.97540775],\n",
       "       [0.8292687 , 0.1707313 ]])"
      ]
     },
     "execution_count": 49,
     "metadata": {},
     "output_type": "execute_result"
    }
   ],
   "source": [
    "lr.predict_proba(x_test)"
   ]
  },
  {
   "cell_type": "code",
   "execution_count": 50,
   "id": "0921ec18-c393-4238-91ac-df0bcc21c491",
   "metadata": {},
   "outputs": [
    {
     "data": {
      "text/plain": [
       "array([[4336,   25],\n",
       "       [ 550, 2098]], dtype=int64)"
      ]
     },
     "execution_count": 50,
     "metadata": {},
     "output_type": "execute_result"
    }
   ],
   "source": [
    "from sklearn.metrics import confusion_matrix\n",
    "cm= confusion_matrix(y_test, y_pred)\n",
    "cm"
   ]
  },
  {
   "cell_type": "code",
   "execution_count": 51,
   "id": "ad4aaa30-9281-4472-b568-9e90d5d40abc",
   "metadata": {},
   "outputs": [
    {
     "data": {
      "text/plain": [
       "0.9179626194892281"
      ]
     },
     "execution_count": 51,
     "metadata": {},
     "output_type": "execute_result"
    }
   ],
   "source": [
    "acc= (4336 + 2098) / (4336 + 2098 + 550 + 25)\n",
    "acc"
   ]
  },
  {
   "cell_type": "code",
   "execution_count": 52,
   "id": "7dfc897b-6511-408c-b318-d634631838f6",
   "metadata": {},
   "outputs": [
    {
     "name": "stdout",
     "output_type": "stream",
     "text": [
      "              precision    recall  f1-score   support\n",
      "\n",
      "           0       0.89      0.99      0.94      4361\n",
      "           1       0.99      0.79      0.88      2648\n",
      "\n",
      "    accuracy                           0.92      7009\n",
      "   macro avg       0.94      0.89      0.91      7009\n",
      "weighted avg       0.93      0.92      0.92      7009\n",
      "\n"
     ]
    }
   ],
   "source": [
    "from sklearn.metrics import classification_report\n",
    "print(classification_report(y_test, y_pred))"
   ]
  },
  {
   "cell_type": "code",
   "execution_count": 53,
   "id": "edd71474-d7fb-45fc-92c8-bba20e3a39da",
   "metadata": {},
   "outputs": [
    {
     "data": {
      "text/plain": [
       "array([1], dtype=int64)"
      ]
     },
     "execution_count": 53,
     "metadata": {},
     "output_type": "execute_result"
    }
   ],
   "source": [
    "x_new= [[0.0, 50, 40]]\n",
    "pred_new= lr.predict(x_new)\n",
    "pred_new"
   ]
  },
  {
   "cell_type": "code",
   "execution_count": 54,
   "id": "99845b73-0854-4d2b-9f6e-ddb85dd1597f",
   "metadata": {},
   "outputs": [
    {
     "data": {
      "text/plain": [
       "array([[0., 1.]])"
      ]
     },
     "execution_count": 54,
     "metadata": {},
     "output_type": "execute_result"
    }
   ],
   "source": [
    "lr.predict_proba(x_new)"
   ]
  },
  {
   "cell_type": "code",
   "execution_count": 55,
   "id": "f8ed3078-9e2c-4730-9ba4-8812575eda58",
   "metadata": {},
   "outputs": [
    {
     "data": {
      "text/plain": [
       "'End Session'"
      ]
     },
     "execution_count": 55,
     "metadata": {},
     "output_type": "execute_result"
    }
   ],
   "source": [
    "'End Session'"
   ]
  },
  {
   "cell_type": "code",
   "execution_count": null,
   "id": "6c5733d7-8d82-412e-9d84-b9ed4ee944d6",
   "metadata": {},
   "outputs": [],
   "source": []
  }
 ],
 "metadata": {
  "kernelspec": {
   "display_name": "Python 3 (ipykernel)",
   "language": "python",
   "name": "python3"
  },
  "language_info": {
   "codemirror_mode": {
    "name": "ipython",
    "version": 3
   },
   "file_extension": ".py",
   "mimetype": "text/x-python",
   "name": "python",
   "nbconvert_exporter": "python",
   "pygments_lexer": "ipython3",
   "version": "3.11.7"
  }
 },
 "nbformat": 4,
 "nbformat_minor": 5
}
